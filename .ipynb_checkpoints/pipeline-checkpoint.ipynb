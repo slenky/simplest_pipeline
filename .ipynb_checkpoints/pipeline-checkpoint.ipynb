{
 "cells": [
  {
   "cell_type": "markdown",
   "metadata": {},
   "source": [
    "# Calculating Value at Risk for a portfolio of bonds"
   ]
  },
  {
   "cell_type": "code",
   "execution_count": 8,
   "metadata": {},
   "outputs": [],
   "source": [
    "# Imports\n",
    "import kfp\n",
    "import json, os, shutil\n",
    "import kfp.dsl as dsl\n",
    "from kfp.dsl import component, ContainerOp\n",
    "from kfp.dsl.types import Dict, List\n",
    "import kfp.compiler as compiler\n",
    "from kfp.components import InputPath, InputTextFile, InputBinaryFile, OutputPath, OutputTextFile, OutputBinaryFile\n",
    "from kubernetes.client.models.v1_local_object_reference import V1LocalObjectReference"
   ]
  },
  {
   "cell_type": "code",
   "execution_count": 9,
   "metadata": {},
   "outputs": [],
   "source": [
    "def create_pvc():\n",
    "    return dsl.VolumeOp(\n",
    "        name='create-pipeline-volume' ,\n",
    "        resource_name='pipeline-pvc-resource' ,\n",
    "        storage_class='azurefile-csi',\n",
    "        modes=dsl.VOLUME_MODE_RWM,\n",
    "        size='10M'\n",
    "    )"
   ]
  },
  {
   "cell_type": "code",
   "execution_count": 10,
   "metadata": {},
   "outputs": [],
   "source": [
    "# STEP 0.5\n",
    "@component\n",
    "def clean(path:str):\n",
    "    return ContainerOp(\n",
    "        name = 'cleaner_',  \n",
    "        image = 'docker.yq.credo.be/cust/yq-python-ml-notebook:v2.5.6.1', \n",
    "        command = ['python', 'scripts/BV_STEP_05.py'], \n",
    "        arguments =['--path', path],\n",
    "        pvolumes = {\"/mnt\": create_pvc().volume}\n",
    "    ).add_pod_label('yq-environment', 'true')"
   ]
  },
  {
   "cell_type": "code",
   "execution_count": 11,
   "metadata": {},
   "outputs": [],
   "source": [
    "# STEP 1\n",
    "@component\n",
    "def generate(scenarios:int, bonds:int, seed:int, path:str):\n",
    "    return ContainerOp(\n",
    "        name = 'scenarios_',  \n",
    "        image = 'docker.yq.credo.be/cust/yq-python-ml-notebook:v2.5.6.1', \n",
    "        command = ['python', 'scripts/BV_STEP_1.py'], \n",
    "        arguments =[ '--scenarios', scenarios\n",
    "                   , '--bonds', bonds\n",
    "                   , '--seed', seed\n",
    "                   , '--path', path]\n",
    "    ).add_pod_label('yq-environment', 'true')"
   ]
  },
  {
   "cell_type": "code",
   "execution_count": 12,
   "metadata": {},
   "outputs": [],
   "source": [
    "# STEP 2\n",
    "@component\n",
    "def consolidate(path:str, confidence:float):\n",
    "    return ContainerOp(\n",
    "        name = 'consolidation_',  \n",
    "        image = 'docker.yq.credo.be/cust/yq-python-ml-notebook:v2.5.6.1', \n",
    "        command = ['python', 'scripts/BV_STEP_2.py'], \n",
    "        arguments =[ '--path', path\n",
    "                   , '--confidence', confidence]\n",
    "    ).add_pod_label('yq-environment', 'true')"
   ]
  },
  {
   "cell_type": "code",
   "execution_count": 13,
   "metadata": {},
   "outputs": [],
   "source": [
    "# BONDS VaR PIPELINE\n",
    "runName = 'Bohdan_Test_Pipeline'\n",
    "@dsl.pipeline(name='Bonds Test')\n",
    "def bonds_pipeline(pods:list=[1],\n",
    "                   scenarios:int=100,\n",
    "                   bonds:int=22,\n",
    "                   path:str=\"scripts/Bonds_VaR\",\n",
    "                   confidence:float=0.01):\n",
    "    \n",
    "    step_05 = clean(path)\n",
    "    \n",
    "    # Kubeflow Garbage Collection \n",
    "    #dsl.get_pipeline_conf().set_ttl_seconds_after_finished(86400)\n",
    "    dsl.get_pipeline_conf().set_ttl_seconds_after_finished(720)\n",
    "    \n",
    "    #remove_pvc_task = dsl.ResourceOp(\n",
    "    #    name='remove-tmp-pvc',\n",
    "    #    k8s_resource=step_05.outputs[\"create-pipeline-volume-manifest\"]\n",
    "    #)\n",
    "    #with dsl.ExitHandler(remove_pvc_task):\n",
    "    with dsl.ParallelFor(pods) as pod:\n",
    "        step_1 = generate(scenarios=scenarios, \n",
    "                          bonds=bonds,\n",
    "                          seed=pod,\n",
    "                          path=path).after(step_05).set_memory_limit('1G').set_cpu_request('1.0')\n",
    "\n",
    "        step_2 = consolidate(path, confidence).after(step_1)"
   ]
  },
  {
   "cell_type": "code",
   "execution_count": 14,
   "metadata": {},
   "outputs": [
    {
     "data": {
      "text/html": [
       "Experiment link <a href=\"/pipeline/#/experiments/details/6c43a053-b557-4e22-be12-76c3ae9f947c\" target=\"_blank\" >here</a>"
      ],
      "text/plain": [
       "<IPython.core.display.HTML object>"
      ]
     },
     "metadata": {},
     "output_type": "display_data"
    },
    {
     "data": {
      "text/html": [
       "Run link <a href=\"/pipeline/#/runs/details/4dc4e02c-20ff-4f0e-a1e2-0156a2fa8900\" target=\"_blank\" >here</a>"
      ],
      "text/plain": [
       "<IPython.core.display.HTML object>"
      ]
     },
     "metadata": {},
     "output_type": "display_data"
    }
   ],
   "source": [
    "# with this one you can run it directly from notebook. Follow the \"here\" buttons below\n",
    "if __name__ == '__main__':\n",
    "    kfp.Client().create_run_from_pipeline_func(bonds_pipeline, arguments={}, run_name=runName, namespace='bohdana')"
   ]
  },
  {
   "cell_type": "code",
   "execution_count": 7,
   "metadata": {},
   "outputs": [],
   "source": [
    "# use this when you want to compile and download your pipeline\n",
    "if __name__ == '__main__':\n",
    "    compiler.Compiler().compile(bonds_pipeline, 'scripts/BV_111P.yaml', type_check=True) "
   ]
  },
  {
   "cell_type": "code",
   "execution_count": null,
   "metadata": {},
   "outputs": [],
   "source": []
  }
 ],
 "metadata": {
  "kernelspec": {
   "display_name": "Python 3",
   "language": "python",
   "name": "python3"
  },
  "language_info": {
   "codemirror_mode": {
    "name": "ipython",
    "version": 3
   },
   "file_extension": ".py",
   "mimetype": "text/x-python",
   "name": "python",
   "nbconvert_exporter": "python",
   "pygments_lexer": "ipython3",
   "version": "3.7.8"
  }
 },
 "nbformat": 4,
 "nbformat_minor": 4
}
