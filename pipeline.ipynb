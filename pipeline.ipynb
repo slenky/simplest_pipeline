{
 "cells": [
  {
   "cell_type": "code",
   "execution_count": 8,
   "metadata": {},
   "outputs": [],
   "source": [
    "# Imports\n",
    "import kfp\n",
    "import json, os, shutil\n",
    "import kfp.dsl as dsl\n",
    "from kfp.dsl import component, ContainerOp\n",
    "from kfp.dsl.types import Dict, List\n",
    "import kfp.compiler as compiler\n",
    "from kfp.components import InputPath, InputTextFile, InputBinaryFile, OutputPath, OutputTextFile, OutputBinaryFile\n",
    "from kubernetes.client.models.v1_local_object_reference import V1LocalObjectReference"
   ]
  },
  {
   "cell_type": "code",
   "execution_count": 10,
   "metadata": {},
   "outputs": [],
   "source": [
    "# STEP 1\n",
    "@component\n",
    "def clean(message:str):\n",
    "    return ContainerOp(\n",
    "        name = 'test1',  \n",
    "        image = 'docker.yq.credo.be/cust/yq-python-ml-notebook:v2.5.6.1', \n",
    "        command = ['python', 'scripts/simplest_pipeline/step1.py'], \n",
    "        arguments =['--message', message]\n",
    "    ).add_pod_label('yq-environment', 'true')"
   ]
  },
  {
   "cell_type": "code",
   "execution_count": 11,
   "metadata": {},
   "outputs": [],
   "source": [
    "# STEP 2\n",
    "@component\n",
    "def generate(scenarios:int):\n",
    "    return ContainerOp(\n",
    "        name = 'scenarios_',  \n",
    "        image = 'docker.yq.credo.be/cust/yq-python-ml-notebook:v2.5.6.1', \n",
    "        command = ['python', 'scripts/simplest_pipeline/step2.py'], \n",
    "        arguments =[ '--scenarios', scenarios ]\n",
    "    ).add_pod_label('yq-environment', 'true')"
   ]
  },
  {
   "cell_type": "code",
   "execution_count": 13,
   "metadata": {},
   "outputs": [],
   "source": [
    "# BONDS VaR PIPELINE\n",
    "runName = 'Bohdan_Test_Pipeline'\n",
    "@dsl.pipeline(name='Bonds Test')\n",
    "def bonds_pipeline(scenarios:int=100,\n",
    "                   pods:int=1,\n",
    "                   message:str=\"message from pipeline\"):\n",
    "    \n",
    "    step05 = clean(message)\n",
    "    \n",
    "    # Kubeflow Garbage Collection \n",
    "    #dsl.get_pipeline_conf().set_ttl_seconds_after_finished(86400)\n",
    "    dsl.get_pipeline_conf().set_ttl_seconds_after_finished(720)\n",
    "    \n",
    "    with dsl.ParallelFor(pods) as pod:\n",
    "        step_1 = generate(scenarios=scenarios).after(step05).set_memory_limit('0.3G').set_cpu_request('0.3')"
   ]
  },
  {
   "cell_type": "code",
   "execution_count": 14,
   "metadata": {},
   "outputs": [
    {
     "data": {
      "text/html": [
       "Experiment link <a href=\"/pipeline/#/experiments/details/6c43a053-b557-4e22-be12-76c3ae9f947c\" target=\"_blank\" >here</a>"
      ],
      "text/plain": [
       "<IPython.core.display.HTML object>"
      ]
     },
     "metadata": {},
     "output_type": "display_data"
    },
    {
     "data": {
      "text/html": [
       "Run link <a href=\"/pipeline/#/runs/details/4dc4e02c-20ff-4f0e-a1e2-0156a2fa8900\" target=\"_blank\" >here</a>"
      ],
      "text/plain": [
       "<IPython.core.display.HTML object>"
      ]
     },
     "metadata": {},
     "output_type": "display_data"
    }
   ],
   "source": [
    "# with this one you can run it directly from notebook. Follow the \"here\" buttons below\n",
    "if __name__ == '__main__':\n",
    "    kfp.Client().create_run_from_pipeline_func(bonds_pipeline, arguments={}, run_name=runName, namespace='bohdana')"
   ]
  },
  {
   "cell_type": "code",
   "execution_count": 7,
   "metadata": {},
   "outputs": [],
   "source": [
    "# use this when you want to compile and download your pipeline\n",
    "if __name__ == '__main__':\n",
    "    compiler.Compiler().compile(bonds_pipeline, 'scripts/BV_111P.yaml', type_check=True) "
   ]
  },
  {
   "cell_type": "code",
   "execution_count": null,
   "metadata": {},
   "outputs": [],
   "source": []
  }
 ],
 "metadata": {
  "kernelspec": {
   "display_name": "Python 3",
   "language": "python",
   "name": "python3"
  },
  "language_info": {
   "codemirror_mode": {
    "name": "ipython",
    "version": 3
   },
   "file_extension": ".py",
   "mimetype": "text/x-python",
   "name": "python",
   "nbconvert_exporter": "python",
   "pygments_lexer": "ipython3",
   "version": "3.7.8"
  }
 },
 "nbformat": 4,
 "nbformat_minor": 4
}
